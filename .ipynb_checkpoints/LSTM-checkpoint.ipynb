{
 "cells": [
  {
   "cell_type": "markdown",
   "id": "790617a1-8bf0-4709-8285-3e60d9d18337",
   "metadata": {},
   "source": [
    "# LSTM time series data Tutorial\n",
    "\n",
    "Using past W * [7 input, 3 output] sets, estimate the outputs.\n",
    "\n",
    "W*[7 inputs + 3outputs] -> 3 outputs"
   ]
  },
  {
   "cell_type": "markdown",
   "id": "2d5f93f1-865a-4330-ab94-bbb2c516e2c8",
   "metadata": {},
   "source": [
    "## 1. Import libraries"
   ]
  },
  {
   "cell_type": "code",
   "execution_count": 1,
   "id": "2d161507-7469-4ab4-8435-e5b79a080133",
   "metadata": {},
   "outputs": [],
   "source": [
    "import pandas as pd  # series data management\n",
    "import numpy as np  # data array calculations\n",
    "import torch  # machine learning framework\n",
    "from datetime import datetime, timedelta  # datetime"
   ]
  },
  {
   "cell_type": "markdown",
   "id": "77d65f0a-f640-4a36-b917-641ec0dc0223",
   "metadata": {},
   "source": [
    "## 2. Prepare data\n",
    "This is an example of making time series data that is totally random.\n",
    "\n",
    "Or, you can use your own data with simliar format."
   ]
  },
  {
   "cell_type": "code",
   "execution_count": 2,
   "id": "05cb37cd-4a5f-47f2-893b-dd4edcab7a1e",
   "metadata": {},
   "outputs": [],
   "source": [
    "df = pd.DataFrame()  # make empty dataframe"
   ]
  },
  {
   "cell_type": "code",
   "execution_count": 3,
   "id": "14900229-ae4b-41d0-8237-b339b2dfb7ed",
   "metadata": {},
   "outputs": [],
   "source": [
    "# make time series index, 10 minutes gap for example\n",
    "start_time = datetime.strptime(\"00:00:00\", \"%H:%M:%S\")\n",
    "end_time = datetime.strptime(\"23:50:00\", \"%H:%M:%S\")\n",
    "time_diff = timedelta(minutes=10)\n",
    "time_indexs = []\n",
    "while start_time <= end_time:\n",
    "    time_indexs.append(start_time.strftime(\"%H:%M:%S\"))\n",
    "    start_time += time_diff\n",
    "\n",
    "num_index = len(time_indexs)\n",
    "df[\"Hours\"] = np.array(time_indexs)\n",
    "df.set_index(\"Hours\", inplace=True)\n",
    "\n",
    "# make random inputs and outputs\n",
    "input_cols = [\"input1\", \"input2\", \"input3\", \"input4\", \"input5\", \"input6\", \"input7\"]\n",
    "output_cols = [\"output1\", \"output2\", \"output3\"]\n",
    "for col in input_cols + output_cols:\n",
    "    df[col] = np.random.rand(num_index)"
   ]
  },
  {
   "cell_type": "code",
   "execution_count": 4,
   "id": "ef165459-0136-4cd9-b19d-40e26e433874",
   "metadata": {},
   "outputs": [
    {
     "data": {
      "text/html": [
       "<div>\n",
       "<style scoped>\n",
       "    .dataframe tbody tr th:only-of-type {\n",
       "        vertical-align: middle;\n",
       "    }\n",
       "\n",
       "    .dataframe tbody tr th {\n",
       "        vertical-align: top;\n",
       "    }\n",
       "\n",
       "    .dataframe thead th {\n",
       "        text-align: right;\n",
       "    }\n",
       "</style>\n",
       "<table border=\"1\" class=\"dataframe\">\n",
       "  <thead>\n",
       "    <tr style=\"text-align: right;\">\n",
       "      <th></th>\n",
       "      <th>input1</th>\n",
       "      <th>input2</th>\n",
       "      <th>input3</th>\n",
       "      <th>input4</th>\n",
       "      <th>input5</th>\n",
       "      <th>input6</th>\n",
       "      <th>input7</th>\n",
       "      <th>output1</th>\n",
       "      <th>output2</th>\n",
       "      <th>output3</th>\n",
       "    </tr>\n",
       "    <tr>\n",
       "      <th>Hours</th>\n",
       "      <th></th>\n",
       "      <th></th>\n",
       "      <th></th>\n",
       "      <th></th>\n",
       "      <th></th>\n",
       "      <th></th>\n",
       "      <th></th>\n",
       "      <th></th>\n",
       "      <th></th>\n",
       "      <th></th>\n",
       "    </tr>\n",
       "  </thead>\n",
       "  <tbody>\n",
       "    <tr>\n",
       "      <th>00:00:00</th>\n",
       "      <td>0.272217</td>\n",
       "      <td>0.543551</td>\n",
       "      <td>0.508452</td>\n",
       "      <td>0.896121</td>\n",
       "      <td>0.028985</td>\n",
       "      <td>0.001714</td>\n",
       "      <td>0.026478</td>\n",
       "      <td>0.753832</td>\n",
       "      <td>0.747477</td>\n",
       "      <td>0.035091</td>\n",
       "    </tr>\n",
       "    <tr>\n",
       "      <th>00:10:00</th>\n",
       "      <td>0.463637</td>\n",
       "      <td>0.795516</td>\n",
       "      <td>0.957192</td>\n",
       "      <td>0.540517</td>\n",
       "      <td>0.248124</td>\n",
       "      <td>0.613166</td>\n",
       "      <td>0.297787</td>\n",
       "      <td>0.356912</td>\n",
       "      <td>0.666159</td>\n",
       "      <td>0.789203</td>\n",
       "    </tr>\n",
       "    <tr>\n",
       "      <th>00:20:00</th>\n",
       "      <td>0.983764</td>\n",
       "      <td>0.999542</td>\n",
       "      <td>0.704283</td>\n",
       "      <td>0.098800</td>\n",
       "      <td>0.732428</td>\n",
       "      <td>0.027293</td>\n",
       "      <td>0.967092</td>\n",
       "      <td>0.819743</td>\n",
       "      <td>0.598115</td>\n",
       "      <td>0.140531</td>\n",
       "    </tr>\n",
       "    <tr>\n",
       "      <th>00:30:00</th>\n",
       "      <td>0.163205</td>\n",
       "      <td>0.887882</td>\n",
       "      <td>0.993260</td>\n",
       "      <td>0.357354</td>\n",
       "      <td>0.027471</td>\n",
       "      <td>0.393128</td>\n",
       "      <td>0.419646</td>\n",
       "      <td>0.630511</td>\n",
       "      <td>0.378567</td>\n",
       "      <td>0.630852</td>\n",
       "    </tr>\n",
       "    <tr>\n",
       "      <th>00:40:00</th>\n",
       "      <td>0.160713</td>\n",
       "      <td>0.400776</td>\n",
       "      <td>0.724516</td>\n",
       "      <td>0.037273</td>\n",
       "      <td>0.738431</td>\n",
       "      <td>0.147715</td>\n",
       "      <td>0.540566</td>\n",
       "      <td>0.960408</td>\n",
       "      <td>0.327427</td>\n",
       "      <td>0.415917</td>\n",
       "    </tr>\n",
       "  </tbody>\n",
       "</table>\n",
       "</div>"
      ],
      "text/plain": [
       "            input1    input2    input3    input4    input5    input6   \n",
       "Hours                                                                  \n",
       "00:00:00  0.272217  0.543551  0.508452  0.896121  0.028985  0.001714  \\\n",
       "00:10:00  0.463637  0.795516  0.957192  0.540517  0.248124  0.613166   \n",
       "00:20:00  0.983764  0.999542  0.704283  0.098800  0.732428  0.027293   \n",
       "00:30:00  0.163205  0.887882  0.993260  0.357354  0.027471  0.393128   \n",
       "00:40:00  0.160713  0.400776  0.724516  0.037273  0.738431  0.147715   \n",
       "\n",
       "            input7   output1   output2   output3  \n",
       "Hours                                             \n",
       "00:00:00  0.026478  0.753832  0.747477  0.035091  \n",
       "00:10:00  0.297787  0.356912  0.666159  0.789203  \n",
       "00:20:00  0.967092  0.819743  0.598115  0.140531  \n",
       "00:30:00  0.419646  0.630511  0.378567  0.630852  \n",
       "00:40:00  0.540566  0.960408  0.327427  0.415917  "
      ]
     },
     "execution_count": 4,
     "metadata": {},
     "output_type": "execute_result"
    }
   ],
   "source": [
    "df.head()"
   ]
  },
  {
   "cell_type": "markdown",
   "id": "c48e2fb8-8338-4dbf-b6fe-a90382c4f18c",
   "metadata": {},
   "source": [
    "And here is example of bringing your data."
   ]
  },
  {
   "cell_type": "code",
   "execution_count": 5,
   "id": "ca61b9be-efdd-4a5d-94ec-839c36b76f46",
   "metadata": {},
   "outputs": [
    {
     "data": {
      "text/html": [
       "<div>\n",
       "<style scoped>\n",
       "    .dataframe tbody tr th:only-of-type {\n",
       "        vertical-align: middle;\n",
       "    }\n",
       "\n",
       "    .dataframe tbody tr th {\n",
       "        vertical-align: top;\n",
       "    }\n",
       "\n",
       "    .dataframe thead th {\n",
       "        text-align: right;\n",
       "    }\n",
       "</style>\n",
       "<table border=\"1\" class=\"dataframe\">\n",
       "  <thead>\n",
       "    <tr style=\"text-align: right;\">\n",
       "      <th></th>\n",
       "      <th>input1</th>\n",
       "      <th>input2</th>\n",
       "      <th>input3</th>\n",
       "      <th>input4</th>\n",
       "      <th>input5</th>\n",
       "      <th>input6</th>\n",
       "      <th>input7</th>\n",
       "      <th>output1</th>\n",
       "      <th>output2</th>\n",
       "      <th>output3</th>\n",
       "    </tr>\n",
       "    <tr>\n",
       "      <th>Hours</th>\n",
       "      <th></th>\n",
       "      <th></th>\n",
       "      <th></th>\n",
       "      <th></th>\n",
       "      <th></th>\n",
       "      <th></th>\n",
       "      <th></th>\n",
       "      <th></th>\n",
       "      <th></th>\n",
       "      <th></th>\n",
       "    </tr>\n",
       "  </thead>\n",
       "  <tbody>\n",
       "    <tr>\n",
       "      <th>00:00:00</th>\n",
       "      <td>0.015950</td>\n",
       "      <td>0.325941</td>\n",
       "      <td>0.243507</td>\n",
       "      <td>0.924663</td>\n",
       "      <td>0.263466</td>\n",
       "      <td>0.309855</td>\n",
       "      <td>0.258402</td>\n",
       "      <td>0.342601</td>\n",
       "      <td>0.348267</td>\n",
       "      <td>0.588811</td>\n",
       "    </tr>\n",
       "    <tr>\n",
       "      <th>00:10:00</th>\n",
       "      <td>0.929199</td>\n",
       "      <td>0.889737</td>\n",
       "      <td>0.937425</td>\n",
       "      <td>0.597543</td>\n",
       "      <td>0.827709</td>\n",
       "      <td>0.837048</td>\n",
       "      <td>0.667660</td>\n",
       "      <td>0.829207</td>\n",
       "      <td>0.681840</td>\n",
       "      <td>0.276235</td>\n",
       "    </tr>\n",
       "    <tr>\n",
       "      <th>00:20:00</th>\n",
       "      <td>0.449561</td>\n",
       "      <td>0.999020</td>\n",
       "      <td>0.694370</td>\n",
       "      <td>0.955522</td>\n",
       "      <td>0.940954</td>\n",
       "      <td>0.919795</td>\n",
       "      <td>0.187271</td>\n",
       "      <td>0.372497</td>\n",
       "      <td>0.487677</td>\n",
       "      <td>0.953071</td>\n",
       "    </tr>\n",
       "    <tr>\n",
       "      <th>00:30:00</th>\n",
       "      <td>0.112158</td>\n",
       "      <td>0.159191</td>\n",
       "      <td>0.299910</td>\n",
       "      <td>0.297780</td>\n",
       "      <td>0.286478</td>\n",
       "      <td>0.570143</td>\n",
       "      <td>0.614302</td>\n",
       "      <td>0.121487</td>\n",
       "      <td>0.024395</td>\n",
       "      <td>0.599209</td>\n",
       "    </tr>\n",
       "    <tr>\n",
       "      <th>00:40:00</th>\n",
       "      <td>0.043976</td>\n",
       "      <td>0.740073</td>\n",
       "      <td>0.815620</td>\n",
       "      <td>0.995026</td>\n",
       "      <td>0.437561</td>\n",
       "      <td>0.279105</td>\n",
       "      <td>0.169911</td>\n",
       "      <td>0.278675</td>\n",
       "      <td>0.344108</td>\n",
       "      <td>0.434303</td>\n",
       "    </tr>\n",
       "  </tbody>\n",
       "</table>\n",
       "</div>"
      ],
      "text/plain": [
       "            input1    input2    input3    input4    input5    input6   \n",
       "Hours                                                                  \n",
       "00:00:00  0.015950  0.325941  0.243507  0.924663  0.263466  0.309855  \\\n",
       "00:10:00  0.929199  0.889737  0.937425  0.597543  0.827709  0.837048   \n",
       "00:20:00  0.449561  0.999020  0.694370  0.955522  0.940954  0.919795   \n",
       "00:30:00  0.112158  0.159191  0.299910  0.297780  0.286478  0.570143   \n",
       "00:40:00  0.043976  0.740073  0.815620  0.995026  0.437561  0.279105   \n",
       "\n",
       "            input7   output1   output2   output3  \n",
       "Hours                                             \n",
       "00:00:00  0.258402  0.342601  0.348267  0.588811  \n",
       "00:10:00  0.667660  0.829207  0.681840  0.276235  \n",
       "00:20:00  0.187271  0.372497  0.487677  0.953071  \n",
       "00:30:00  0.614302  0.121487  0.024395  0.599209  \n",
       "00:40:00  0.169911  0.278675  0.344108  0.434303  "
      ]
     },
     "execution_count": 5,
     "metadata": {},
     "output_type": "execute_result"
    }
   ],
   "source": [
    "df = pd.read_csv('sample.csv', index_col=\"Hours\")\n",
    "df.head()"
   ]
  },
  {
   "cell_type": "markdown",
   "id": "7bdb0e0e-382b-405a-98bb-3572bfc0169d",
   "metadata": {
    "tags": []
   },
   "source": [
    "## 3. Make pytorch training code\n",
    "Pytorch needs 3 essential elements for training.\n",
    "- A. Dataset: dataset.\n",
    "- B. Model: model.\n",
    "- C. Object fuction(a.k.a. Loss, criterion, ...): calculating function of  how effective the prediction is.\n",
    "\n",
    "\n",
    "And these are optional:\n",
    "- Optimizer: **Optimize the weight update** for enhanced training\n",
    "- Scheduler: **Schedule the learning rate** for enhanced training\n",
    "- Dataloader: **Data Supply Tool** for batch tranining, multi threading, etc\n",
    "\n",
    "We will use Optimizer and Dataloader in this tutorial."
   ]
  },
  {
   "cell_type": "markdown",
   "id": "63e37367-d854-4974-8ed3-7af229b68884",
   "metadata": {},
   "source": [
    "### a. Dataset\n",
    "In pytorch Dataset, we need to override built-in functions\n",
    "- \\_\\_init\\_\\_: constructor\n",
    "- \\_\\_len\\_\\_: get dataset lengths with len()\n",
    "- \\_\\_getitem\\_\\_: get element with using python list index system (e.g. arr[i])"
   ]
  },
  {
   "cell_type": "code",
   "execution_count": 6,
   "id": "254142fc-a0b9-4265-bd49-8851132c84d3",
   "metadata": {},
   "outputs": [
    {
     "name": "stdout",
     "output_type": "stream",
     "text": [
      "length of dataset: 138\n",
      "\n",
      "example of x(input):\n",
      " tensor([[0.0159, 0.3259, 0.2435, 0.9247, 0.2635, 0.3099, 0.2584, 0.3426, 0.3483,\n",
      "         0.5888],\n",
      "        [0.9292, 0.8897, 0.9374, 0.5975, 0.8277, 0.8370, 0.6677, 0.8292, 0.6818,\n",
      "         0.2762],\n",
      "        [0.4496, 0.9990, 0.6944, 0.9555, 0.9410, 0.9198, 0.1873, 0.3725, 0.4877,\n",
      "         0.9531],\n",
      "        [0.1122, 0.1592, 0.2999, 0.2978, 0.2865, 0.5701, 0.6143, 0.1215, 0.0244,\n",
      "         0.5992],\n",
      "        [0.0440, 0.7401, 0.8156, 0.9950, 0.4376, 0.2791, 0.1699, 0.2787, 0.3441,\n",
      "         0.4343]])\n",
      "\n",
      "example of y(output)\n",
      ": tensor([0.4136, 0.9490, 0.3915])\n"
     ]
    }
   ],
   "source": [
    "from torch.utils.data import Dataset\n",
    "\n",
    "\n",
    "class MyDataset(Dataset):\n",
    "    def __init__(self, df, window_size: int):\n",
    "        self.df = df\n",
    "        self.window_size = window_size  # How much past data to refer to predict\n",
    "\n",
    "    def __len__(self):\n",
    "        return len(self.df) - (self.window_size + 1)\n",
    "\n",
    "    def __getitem__(self, idx):\n",
    "        x = self.df.iloc[idx:idx+self.window_size].values  # all past data * window_size\n",
    "        y = self.df.iloc[idx+self.window_size+1][['output1', 'output2', 'output3']].values  # outputs\n",
    "        return torch.tensor(x).float(), torch.tensor(y).float()\n",
    "\n",
    "\n",
    "window_size = 5\n",
    "dataset = MyDataset(df, window_size)\n",
    "print(\"length of dataset:\", len(dataset))\n",
    "# get first element\n",
    "x, y = dataset[0]\n",
    "print(\"\\nexample of x(input):\\n\", x)  # [7 inputs + 3 outputs] * window_size\n",
    "print(\"\\nexample of y(output)\\n:\", y)  # 3 outputs"
   ]
  },
  {
   "cell_type": "markdown",
   "id": "51d148db-cea4-4ca9-ba95-7152099fe1ff",
   "metadata": {},
   "source": [
    "### b. Simple LSTM Model\n",
    "In pytorch Model, we need to override 2 built-in functions\n",
    "- \\_\\_init\\_\\_: constructor\n",
    "- forward: pytorch function of inferencing. Usage: model(x)"
   ]
  },
  {
   "cell_type": "code",
   "execution_count": 7,
   "id": "9dd4e672-a8fa-4f44-9257-d25790ae1907",
   "metadata": {},
   "outputs": [
    {
     "name": "stdout",
     "output_type": "stream",
     "text": [
      "MyLSTM(\n",
      "  (lstm): LSTM(10, 5)\n",
      "  (linear): Linear(in_features=5, out_features=3, bias=True)\n",
      ")\n"
     ]
    }
   ],
   "source": [
    "import torch.nn as nn\n",
    "import torch.optim as optim\n",
    "\n",
    "\n",
    "class MyLSTM(nn.Module):\n",
    "    def __init__(self, n_input: int, n_hidden: int, n_output: int):\n",
    "        super(MyLSTM, self).__init__()\n",
    "        self.lstm = nn.LSTM(input_size=n_input, hidden_size=n_hidden)  # LSTM layer\n",
    "        self.linear = nn.Linear(n_hidden, n_output)  # fully connected layer for last prediciton\n",
    "\n",
    "    def forward(self, x):\n",
    "        lstm_out, hidden = self.lstm(x)\n",
    "        out = self.linear(lstm_out[:, -1])\n",
    "        return out\n",
    "\n",
    "\n",
    "n_input = 10  # cause we will use 7 inputs + 3 outputs = 10\n",
    "n_hidden = 5  # this is hidden size that LSTM uses. you can change this vaule\n",
    "n_output = 3  # 3 outputs\n",
    "\n",
    "model = MyLSTM(n_input, n_hidden, n_output)\n",
    "print(model)"
   ]
  },
  {
   "cell_type": "markdown",
   "id": "0f63d7a1-e1bd-4124-a917-4ccafaa4cdda",
   "metadata": {},
   "source": [
    "### Sample usage with x"
   ]
  },
  {
   "cell_type": "code",
   "execution_count": 8,
   "id": "88605e48-877f-4afe-9f05-0cbbd56d1d43",
   "metadata": {},
   "outputs": [
    {
     "name": "stdout",
     "output_type": "stream",
     "text": [
      "predicted value for input x:\n",
      " [-0.18180266 -0.04074691 -0.39606753]\n"
     ]
    }
   ],
   "source": [
    "pred = model(x)\n",
    "print(\"predicted value for input x:\\n\", pred.detach().numpy())"
   ]
  },
  {
   "cell_type": "markdown",
   "id": "fcba47ae-21bc-4683-bf8b-9445ae9750cd",
   "metadata": {},
   "source": [
    "### c. Object function\n",
    "We will just use torch.nn.MSELoss() here."
   ]
  },
  {
   "cell_type": "code",
   "execution_count": 9,
   "id": "d414457a-4a52-4b7b-8f8c-29b40f4251c6",
   "metadata": {},
   "outputs": [],
   "source": [
    "criterion = nn.MSELoss()"
   ]
  },
  {
   "cell_type": "markdown",
   "id": "3db1d62a-9342-4b87-8b0d-7dbe5b72cce3",
   "metadata": {},
   "source": [
    "### Sample loss calculation"
   ]
  },
  {
   "cell_type": "code",
   "execution_count": 10,
   "id": "6f1c47e4-b586-4d63-823d-2e7de37b92b3",
   "metadata": {},
   "outputs": [
    {
     "name": "stdout",
     "output_type": "stream",
     "text": [
      "predicted value for input x:\n",
      " [-0.18180266 -0.04074691 -0.39606753]\n",
      "target:\n",
      " [0.41364914 0.94902205 0.3915306 ]\n",
      "\n",
      "MSE loss: 0.6515054702758789\n"
     ]
    }
   ],
   "source": [
    "loss = criterion(pred, y)\n",
    "print(\"predicted value for input x:\\n\", pred.detach().numpy())\n",
    "print(\"target:\\n\", y.detach().numpy())\n",
    "print(\"\\nMSE loss:\", loss.item())"
   ]
  },
  {
   "cell_type": "markdown",
   "id": "8c6afd83-f22c-401c-965b-036055108e66",
   "metadata": {},
   "source": [
    "## 4. Training\n",
    "Now we will just assemble above ingredients that we prepared.\n",
    "\n",
    "As I commented above, we will use Optimizer and Dataloader additionally."
   ]
  },
  {
   "cell_type": "code",
   "execution_count": 11,
   "id": "b434c0e8-2b9d-4d10-8b6f-56c4ea7c2525",
   "metadata": {
    "scrolled": true,
    "tags": []
   },
   "outputs": [
    {
     "name": "stdout",
     "output_type": "stream",
     "text": [
      "Epoch:   50,  average loss = 0.060346\n",
      "Epoch:  100,  average loss = 0.083287\n",
      "Epoch:  150,  average loss = 0.036458\n",
      "Epoch:  200,  average loss = 0.018195\n",
      "Epoch:  250,  average loss = 0.060213\n",
      "Epoch:  300,  average loss = 0.026442\n",
      "Epoch:  350,  average loss = 0.019931\n",
      "Epoch:  400,  average loss = 0.068454\n",
      "Epoch:  450,  average loss = 0.017393\n",
      "Epoch:  500,  average loss = 0.098631\n"
     ]
    }
   ],
   "source": [
    "from torch.utils.data import DataLoader\n",
    "\n",
    "\n",
    "### hyperparameters\n",
    "num_window = 5\n",
    "num_batch = 4\n",
    "num_input = 10\n",
    "num_hidden = 5\n",
    "num_output = 3\n",
    "num_epoch = 500\n",
    "###################\n",
    "\n",
    "\n",
    "# prepare dataset & loader\n",
    "dataset = MyDataset(df, window_size)\n",
    "dataloader = DataLoader(dataset, batch_size=num_batch, shuffle=True)\n",
    "\n",
    "# prepare model\n",
    "model = MyLSTM(num_input, num_hidden, num_output)\n",
    "\n",
    "# prepare object fucntion\n",
    "criterion = nn.MSELoss()\n",
    "\n",
    "# prepare optimizer\n",
    "optimizer = optim.Adam(model.parameters(), lr=0.01)\n",
    "\n",
    "\n",
    "# gpu utilization if it's available\n",
    "device = 'cpu'\n",
    "if torch.cuda.is_available():\n",
    "    device = 'cuda:0'\n",
    "model.to(device)\n",
    "criterion.to(device)\n",
    "\n",
    "# train\n",
    "for epoch in range(num_epoch):\n",
    "    avg_loss = 0.\n",
    "    for step, (x, y) in enumerate(dataloader):\n",
    "        optimizer.zero_grad()  # reset optimizer\n",
    "        x = x.to(device)  # gpu utilization if it's available\n",
    "        y = y.to(device)  # gpu utilization if it's available\n",
    "\n",
    "        output = model(x)  # prediction\n",
    "        loss = criterion(output, y)  # calcuate the loss\n",
    "        loss.backward()  # backpropagation and update the model weights\n",
    "\n",
    "        avg_loss += loss / len(dataloader)\n",
    "        optimizer.step()\n",
    "\n",
    "    if (epoch + 1) % 50 == 0:  # log per 50 epochs\n",
    "        print(f\"Epoch: {str(epoch + 1).rjust(4, ' ')}, \", \"average loss =\", \"{:.6f}\".format(loss))"
   ]
  },
  {
   "cell_type": "markdown",
   "id": "d5da3e3f-66e2-4a8b-b660-9da53f608ae1",
   "metadata": {},
   "source": [
    "Loss does not appear to be dramatically decreased. Because we are using meaningless random data.\n",
    "\n",
    "You can enhance the result by these common methods.\n",
    "- make more complicated model\n",
    "- data augmentation\n",
    "- hyperparameter tuning"
   ]
  },
  {
   "cell_type": "code",
   "execution_count": null,
   "id": "c17c28dc-b742-4da8-804e-dbea23f1c7f3",
   "metadata": {},
   "outputs": [],
   "source": []
  }
 ],
 "metadata": {
  "kernelspec": {
   "display_name": "ydh",
   "language": "python",
   "name": "ydh"
  },
  "language_info": {
   "codemirror_mode": {
    "name": "ipython",
    "version": 3
   },
   "file_extension": ".py",
   "mimetype": "text/x-python",
   "name": "python",
   "nbconvert_exporter": "python",
   "pygments_lexer": "ipython3",
   "version": "3.9.16"
  }
 },
 "nbformat": 4,
 "nbformat_minor": 5
}
